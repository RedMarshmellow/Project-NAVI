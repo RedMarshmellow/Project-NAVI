{
 "cells": [
  {
   "cell_type": "code",
   "execution_count": 1,
   "id": "02744cae",
   "metadata": {},
   "outputs": [],
   "source": [
    "from flask import Flask, request, jsonify\n",
    "import pickle\n",
    "import numpy as np\n",
    "import torch\n",
    "import cv2\n",
    "import io\n",
    "from matplotlib import pyplot as plt\n",
    "from position_calculator import calculate_position \n",
    "#The Python Imaging Library adds image processing capabilities to your Python interpreter. \n",
    "import PIL\n",
    "#Pickle is used for serializing and de-serializing Python object structures, \n",
    "#also called marshalling or flattening. Serialization refers to the process \n",
    "#of converting an object in memory to a byte stream that can be stored on \n",
    "#disk or sent over a network. Later on, this character stream can then be \n",
    "#retrieved and de-serialized back to a Python object. \n",
    "#Unpickling a file that was pickled in a different version of Python may \n",
    "#not always work properly\n",
    "#https://www.datacamp.com/tutorial/pickle-python-tutorial"
   ]
  },
  {
   "cell_type": "code",
   "execution_count": 2,
   "id": "49607df1",
   "metadata": {},
   "outputs": [],
   "source": [
    "# This dictionary will be utilized while finding the distance of objects from the user. \n",
    "# We are using the width of an object instead of its height because while capturing the \n",
    "# frame, the complete height of the object might not be captured. The width is more likely\n",
    "# to be appearing in full length.\n",
    "objects_actual_width = {'person': 38.5, 'tv':5, 'bicycle': 175, 'couch': 152, 'bus': 1200, 'car': 448, 'chair': 46, 'motorcycle': 221, \n",
    "                       'traffic light': 40 , 'bed': 141, 'bench': 114, 'dining_table': 160, 'dog': 84, 'cat': 38}"
   ]
  },
  {
   "cell_type": "code",
   "execution_count": 3,
   "id": "698426ac",
   "metadata": {},
   "outputs": [],
   "source": [
    "navi_app = Flask(__name__)\n",
    "# after the application starts, we can load the model for once \n",
    "# and make several requests to it\n",
    "f = open(\"object_detection-v1.pk\", \"rb\") # reading a binary file\n",
    "model_pk = pickle.load(f) # loading it as a model object"
   ]
  },
  {
   "cell_type": "code",
   "execution_count": 4,
   "id": "3d1405f7",
   "metadata": {},
   "outputs": [],
   "source": [
    "@navi_app.route('/predict', methods=[\"GET\", \"POST\"])\n",
    "def predict():\n",
    "    if request.method == \"GET\":\n",
    "        return \"Please send post request\"\n",
    "\n",
    "    elif request.method == \"POST\":\n",
    "        frame = request.files.get('frame') # get the frame sent by the API request \n",
    "        print(frame)\n",
    "        im_bytes = frame.read() # convert the file into byte stream\n",
    "        image = PIL.Image.open(io.BytesIO(im_bytes)) # convert the byte stream into \n",
    "        image.show()\n",
    "        image_width, image_height = image.size\n",
    "        \n",
    "        prediction = model_pk(image)\n",
    "        objects_with_positions = calculate_position(prediction.pandas().xyxy, objects_actual_width, image_width, image_height)\n",
    "        \n",
    "        data = {\n",
    "            \"objects_with_positions\" : objects_with_positions,\n",
    "        }\n",
    "  \n",
    "        return jsonify(data)"
   ]
  },
  {
   "cell_type": "code",
   "execution_count": null,
   "id": "3091ca01",
   "metadata": {
    "scrolled": true
   },
   "outputs": [
    {
     "name": "stdout",
     "output_type": "stream",
     "text": [
      " * Serving Flask app '__main__'\n",
      " * Debug mode: off\n"
     ]
    },
    {
     "name": "stderr",
     "output_type": "stream",
     "text": [
      "WARNING: This is a development server. Do not use it in a production deployment. Use a production WSGI server instead.\n",
      " * Running on http://127.0.0.1:5000\n",
      "Press CTRL+C to quit\n"
     ]
    },
    {
     "name": "stdout",
     "output_type": "stream",
     "text": [
      "<FileStorage: 'CAP7493554242457851743.jpg' ('application/octet-stream')>\n"
     ]
    },
    {
     "name": "stderr",
     "output_type": "stream",
     "text": [
      "127.0.0.1 - - [28/Dec/2022 19:35:03] \"POST /predict HTTP/1.1\" 200 -\n"
     ]
    },
    {
     "name": "stdout",
     "output_type": "stream",
     "text": [
      "<FileStorage: 'CAP5329811780870917880.jpg' ('application/octet-stream')>\n"
     ]
    },
    {
     "name": "stderr",
     "output_type": "stream",
     "text": [
      "127.0.0.1 - - [28/Dec/2022 19:35:20] \"POST /predict HTTP/1.1\" 200 -\n"
     ]
    },
    {
     "name": "stdout",
     "output_type": "stream",
     "text": [
      "<FileStorage: 'CAP5276873085001363089.jpg' ('application/octet-stream')>\n"
     ]
    },
    {
     "name": "stderr",
     "output_type": "stream",
     "text": [
      "127.0.0.1 - - [28/Dec/2022 19:35:37] \"POST /predict HTTP/1.1\" 200 -\n"
     ]
    },
    {
     "name": "stdout",
     "output_type": "stream",
     "text": [
      "<FileStorage: 'CAP8422619564954569163.jpg' ('application/octet-stream')>\n"
     ]
    },
    {
     "name": "stderr",
     "output_type": "stream",
     "text": [
      "127.0.0.1 - - [28/Dec/2022 19:35:52] \"POST /predict HTTP/1.1\" 200 -\n"
     ]
    },
    {
     "name": "stdout",
     "output_type": "stream",
     "text": [
      "<FileStorage: 'CAP1939489479928094954.jpg' ('application/octet-stream')>\n"
     ]
    },
    {
     "name": "stderr",
     "output_type": "stream",
     "text": [
      "127.0.0.1 - - [28/Dec/2022 19:36:08] \"POST /predict HTTP/1.1\" 200 -\n"
     ]
    },
    {
     "name": "stdout",
     "output_type": "stream",
     "text": [
      "<FileStorage: 'CAP4459326778384721481.jpg' ('application/octet-stream')>\n"
     ]
    },
    {
     "name": "stderr",
     "output_type": "stream",
     "text": [
      "127.0.0.1 - - [28/Dec/2022 19:37:04] \"POST /predict HTTP/1.1\" 200 -\n"
     ]
    },
    {
     "name": "stdout",
     "output_type": "stream",
     "text": [
      "<FileStorage: 'CAP8025927838450114792.jpg' ('application/octet-stream')>\n"
     ]
    },
    {
     "name": "stderr",
     "output_type": "stream",
     "text": [
      "127.0.0.1 - - [28/Dec/2022 19:39:04] \"POST /predict HTTP/1.1\" 200 -\n"
     ]
    },
    {
     "name": "stdout",
     "output_type": "stream",
     "text": [
      "<FileStorage: 'CAP7200577088875162434.jpg' ('application/octet-stream')>\n"
     ]
    },
    {
     "name": "stderr",
     "output_type": "stream",
     "text": [
      "127.0.0.1 - - [28/Dec/2022 19:39:10] \"POST /predict HTTP/1.1\" 200 -\n"
     ]
    },
    {
     "name": "stdout",
     "output_type": "stream",
     "text": [
      "<FileStorage: 'CAP8119715856838124471.jpg' ('application/octet-stream')>\n"
     ]
    },
    {
     "name": "stderr",
     "output_type": "stream",
     "text": [
      "127.0.0.1 - - [28/Dec/2022 19:39:17] \"POST /predict HTTP/1.1\" 200 -\n"
     ]
    },
    {
     "name": "stdout",
     "output_type": "stream",
     "text": [
      "<FileStorage: 'CAP3009857394661788098.jpg' ('application/octet-stream')>\n"
     ]
    },
    {
     "name": "stderr",
     "output_type": "stream",
     "text": [
      "127.0.0.1 - - [28/Dec/2022 19:39:23] \"POST /predict HTTP/1.1\" 200 -\n"
     ]
    },
    {
     "name": "stdout",
     "output_type": "stream",
     "text": [
      "<FileStorage: 'CAP998863085712462488.jpg' ('application/octet-stream')>\n"
     ]
    },
    {
     "name": "stderr",
     "output_type": "stream",
     "text": [
      "127.0.0.1 - - [28/Dec/2022 19:39:30] \"POST /predict HTTP/1.1\" 200 -\n"
     ]
    },
    {
     "name": "stdout",
     "output_type": "stream",
     "text": [
      "<FileStorage: 'CAP3604654082736543230.jpg' ('application/octet-stream')>\n"
     ]
    },
    {
     "name": "stderr",
     "output_type": "stream",
     "text": [
      "127.0.0.1 - - [28/Dec/2022 19:39:36] \"POST /predict HTTP/1.1\" 200 -\n"
     ]
    },
    {
     "name": "stdout",
     "output_type": "stream",
     "text": [
      "<FileStorage: 'CAP2450722133619736497.jpg' ('application/octet-stream')>\n"
     ]
    },
    {
     "name": "stderr",
     "output_type": "stream",
     "text": [
      "127.0.0.1 - - [28/Dec/2022 19:39:43] \"POST /predict HTTP/1.1\" 200 -\n"
     ]
    },
    {
     "name": "stdout",
     "output_type": "stream",
     "text": [
      "<FileStorage: 'CAP5673142744554323179.jpg' ('application/octet-stream')>\n"
     ]
    },
    {
     "name": "stderr",
     "output_type": "stream",
     "text": [
      "127.0.0.1 - - [28/Dec/2022 19:39:49] \"POST /predict HTTP/1.1\" 200 -\n"
     ]
    },
    {
     "name": "stdout",
     "output_type": "stream",
     "text": [
      "<FileStorage: 'CAP9467256379504744.jpg' ('application/octet-stream')>\n"
     ]
    },
    {
     "name": "stderr",
     "output_type": "stream",
     "text": [
      "127.0.0.1 - - [28/Dec/2022 19:39:55] \"POST /predict HTTP/1.1\" 200 -\n"
     ]
    }
   ],
   "source": [
    "navi_app.run()"
   ]
  },
  {
   "cell_type": "code",
   "execution_count": null,
   "id": "bea55887",
   "metadata": {},
   "outputs": [],
   "source": []
  },
  {
   "cell_type": "code",
   "execution_count": null,
   "id": "26042705",
   "metadata": {},
   "outputs": [],
   "source": []
  }
 ],
 "metadata": {
  "kernelspec": {
   "display_name": "Python 3 (ipykernel)",
   "language": "python",
   "name": "python3"
  },
  "language_info": {
   "codemirror_mode": {
    "name": "ipython",
    "version": 3
   },
   "file_extension": ".py",
   "mimetype": "text/x-python",
   "name": "python",
   "nbconvert_exporter": "python",
   "pygments_lexer": "ipython3",
   "version": "3.9.12"
  }
 },
 "nbformat": 4,
 "nbformat_minor": 5
}
