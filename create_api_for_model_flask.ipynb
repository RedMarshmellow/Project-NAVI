{
 "cells": [
  {
   "cell_type": "code",
   "execution_count": 1,
   "id": "02744cae",
   "metadata": {},
   "outputs": [],
   "source": [
    "from flask import Flask, request\n",
    "import pickle\n",
    "import numpy as np\n",
    "import torch\n",
    "import cv2\n",
    "import io\n",
    "from matplotlib import pyplot as plt\n",
    "from position_calculator import calculate_position \n",
    "#The Python Imaging Library adds image processing capabilities to your Python interpreter. \n",
    "import PIL\n",
    "#Pickle is used for serializing and de-serializing Python object structures, \n",
    "#also called marshalling or flattening. Serialization refers to the process \n",
    "#of converting an object in memory to a byte stream that can be stored on \n",
    "#disk or sent over a network. Later on, this character stream can then be \n",
    "#retrieved and de-serialized back to a Python object. \n",
    "#Unpickling a file that was pickled in a different version of Python may \n",
    "#not always work properly\n",
    "#https://www.datacamp.com/tutorial/pickle-python-tutorial"
   ]
  },
  {
   "cell_type": "code",
   "execution_count": 2,
   "id": "49607df1",
   "metadata": {},
   "outputs": [],
   "source": [
    "# This dictionary will be utilized while finding the distance of objects from the user. \n",
    "# We are using the width of an object instead of its height because while capturing the \n",
    "# frame, the complete height of the object might not be captured. The width is more likely\n",
    "# to be appearing in full length.\n",
    "#'motorcycle': ,'traffic light': , 'bench': ,'dog': , 'cat': ,  'bed': , 'dining_table': , \n",
    "objects_actual_width = {'person': 38.5, 'tv':5, 'bicycle': 175, 'couch': 152, 'bus': 1200, 'car': 448, 'chair': 46}"
   ]
  },
  {
   "cell_type": "code",
   "execution_count": 3,
   "id": "698426ac",
   "metadata": {},
   "outputs": [],
   "source": [
    "navi_app = Flask(__name__)\n",
    "# after the application starts, we can load the model for once \n",
    "# and make several requests to it\n",
    "f = open(\"object_detection-v1.pk\", \"rb\") # reading a binary file\n",
    "model_pk = pickle.load(f) # loading it as a model object"
   ]
  },
  {
   "cell_type": "code",
   "execution_count": 4,
   "id": "3d1405f7",
   "metadata": {},
   "outputs": [],
   "source": [
    "@navi_app.route('/api_predict', methods=[\"GET\", \"POST\"])\n",
    "def api_predict():\n",
    "    if request.method == \"GET\":\n",
    "        return \"Please send post request\"\n",
    "\n",
    "    elif request.method == \"POST\":\n",
    "        frame = request.files.get('frame') # get the frame sent by the API request \n",
    "        im_bytes = frame.read() # convert the file into byte stream\n",
    "        image = PIL.Image.open(io.BytesIO(im_bytes)) # convert the byte stream into \n",
    "        image_width, image_height = image.size\n",
    "        \n",
    "        prediction = model_pk(image)\n",
    "        objects_with_positions = calculate_position(prediction.pandas().xyxy, objects_actual_width, image_width, image_height)\n",
    "        \n",
    "        return objects_with_positions"
   ]
  },
  {
   "cell_type": "code",
   "execution_count": null,
   "id": "3091ca01",
   "metadata": {},
   "outputs": [
    {
     "name": "stdout",
     "output_type": "stream",
     "text": [
      " * Serving Flask app '__main__'\n",
      " * Debug mode: off\n"
     ]
    },
    {
     "name": "stderr",
     "output_type": "stream",
     "text": [
      "WARNING: This is a development server. Do not use it in a production deployment. Use a production WSGI server instead.\n",
      " * Running on http://127.0.0.1:5000\n",
      "Press CTRL+C to quit\n",
      "127.0.0.1 - - [17/Dec/2022 13:08:02] \"POST /api_predict HTTP/1.1\" 200 -\n",
      "127.0.0.1 - - [17/Dec/2022 13:08:33] \"POST /api_predict HTTP/1.1\" 200 -\n"
     ]
    }
   ],
   "source": [
    "navi_app.run()"
   ]
  },
  {
   "cell_type": "code",
   "execution_count": null,
   "id": "bea55887",
   "metadata": {},
   "outputs": [],
   "source": []
  },
  {
   "cell_type": "code",
   "execution_count": null,
   "id": "26042705",
   "metadata": {},
   "outputs": [],
   "source": []
  }
 ],
 "metadata": {
  "kernelspec": {
   "display_name": "Python 3 (ipykernel)",
   "language": "python",
   "name": "python3"
  },
  "language_info": {
   "codemirror_mode": {
    "name": "ipython",
    "version": 3
   },
   "file_extension": ".py",
   "mimetype": "text/x-python",
   "name": "python",
   "nbconvert_exporter": "python",
   "pygments_lexer": "ipython3",
   "version": "3.9.12"
  }
 },
 "nbformat": 4,
 "nbformat_minor": 5
}
